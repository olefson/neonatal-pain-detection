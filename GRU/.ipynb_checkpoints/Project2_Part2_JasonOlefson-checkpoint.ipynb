{
 "cells": [
  {
   "cell_type": "markdown",
   "metadata": {},
   "source": [
    "<h1>Jason Olefson Project 2 Part 1 Deep Learning</h1>"
   ]
  },
  {
   "cell_type": "markdown",
   "metadata": {},
   "source": [
    "<h1>Imports</h1>"
   ]
  },
  {
   "cell_type": "code",
   "execution_count": 1,
   "metadata": {},
   "outputs": [],
   "source": [
    "import os\n",
    "import pandas as pd\n",
    "import tensorflow as tf\n",
    "from tensorflow.keras.models import Sequential\n",
    "from tensorflow.keras.layers import LSTM, Dropout, Dense, BatchNormalization\n",
    "from tensorflow.keras.optimizers import Adam\n",
    "from tensorflow.keras.callbacks import ReduceLROnPlateau\n",
    "from tensorflow.keras.regularizers import l2\n",
    "from sklearn.preprocessing import StandardScaler\n",
    "from sklearn.model_selection import train_test_split\n",
    "from sklearn.utils import shuffle\n",
    "import matplotlib.pyplot as plt"
   ]
  },
  {
   "cell_type": "markdown",
   "metadata": {},
   "source": [
    "<h1>GPU Check</h1>\n",
    "<h3>IMPORTANT In this project, I used my GPU (NVIDIA RTX 4080) to train my model. Because of this, you may need to configure the first few blocks on this file to run on your device. Thank you.</h3>"
   ]
  },
  {
   "cell_type": "code",
   "execution_count": 2,
   "metadata": {},
   "outputs": [
    {
     "name": "stdout",
     "output_type": "stream",
     "text": [
      "[name: \"/device:CPU:0\"\n",
      "device_type: \"CPU\"\n",
      "memory_limit: 268435456\n",
      "locality {\n",
      "}\n",
      "incarnation: 5977599438562444268\n",
      "xla_global_id: -1\n",
      ", name: \"/device:GPU:0\"\n",
      "device_type: \"GPU\"\n",
      "memory_limit: 14048821248\n",
      "locality {\n",
      "  bus_id: 1\n",
      "  links {\n",
      "  }\n",
      "}\n",
      "incarnation: 12236004723988543908\n",
      "physical_device_desc: \"device: 0, name: NVIDIA GeForce RTX 4080, pci bus id: 0000:01:00.0, compute capability: 8.9\"\n",
      "xla_global_id: 416903419\n",
      "]\n"
     ]
    }
   ],
   "source": [
    "# Check for GPU availability\n",
    "# print(\"Num GPUs Available: \", len(tf.config.list_physical_devices('GPU')))\n",
    "\n",
    "# # Check if TensorFlow is using GPU for cuDNN-enabled operations\n",
    "# print(\"Is TensorFlow using GPU?: \", tf.test.is_built_with_cuda())\n",
    "\n",
    "from tensorflow.python.client import device_lib\n",
    "print(device_lib.list_local_devices())"
   ]
  },
  {
   "cell_type": "code",
   "execution_count": 3,
   "metadata": {},
   "outputs": [
    {
     "name": "stdout",
     "output_type": "stream",
     "text": [
      "GPU is available and being used.\n"
     ]
    }
   ],
   "source": [
    "if tf.config.list_physical_devices('GPU'):\n",
    "    print(\"GPU is available and being used.\")\n",
    "else:\n",
    "    print(\"No GPU detected, using CPU.\")"
   ]
  },
  {
   "cell_type": "markdown",
   "metadata": {},
   "source": [
    "<h1>Data Prep</h1>"
   ]
  },
  {
   "cell_type": "code",
   "execution_count": 4,
   "metadata": {},
   "outputs": [
    {
     "data": {
      "text/html": [
       "<div>\n",
       "<style scoped>\n",
       "    .dataframe tbody tr th:only-of-type {\n",
       "        vertical-align: middle;\n",
       "    }\n",
       "\n",
       "    .dataframe tbody tr th {\n",
       "        vertical-align: top;\n",
       "    }\n",
       "\n",
       "    .dataframe thead th {\n",
       "        text-align: right;\n",
       "    }\n",
       "</style>\n",
       "<table border=\"1\" class=\"dataframe\">\n",
       "  <thead>\n",
       "    <tr style=\"text-align: right;\">\n",
       "      <th></th>\n",
       "      <th>Baby_ID</th>\n",
       "      <th>Heart_Rate</th>\n",
       "      <th>Respiratory_Rate</th>\n",
       "      <th>Oxygen_Saturation</th>\n",
       "      <th>Pain_Level</th>\n",
       "    </tr>\n",
       "  </thead>\n",
       "  <tbody>\n",
       "    <tr>\n",
       "      <th>0</th>\n",
       "      <td>0</td>\n",
       "      <td>142</td>\n",
       "      <td>60</td>\n",
       "      <td>100.0</td>\n",
       "      <td>0</td>\n",
       "    </tr>\n",
       "    <tr>\n",
       "      <th>1</th>\n",
       "      <td>1</td>\n",
       "      <td>142</td>\n",
       "      <td>60</td>\n",
       "      <td>100.0</td>\n",
       "      <td>0</td>\n",
       "    </tr>\n",
       "    <tr>\n",
       "      <th>2</th>\n",
       "      <td>2</td>\n",
       "      <td>142</td>\n",
       "      <td>60</td>\n",
       "      <td>100.0</td>\n",
       "      <td>0</td>\n",
       "    </tr>\n",
       "    <tr>\n",
       "      <th>3</th>\n",
       "      <td>3</td>\n",
       "      <td>142</td>\n",
       "      <td>59</td>\n",
       "      <td>100.0</td>\n",
       "      <td>0</td>\n",
       "    </tr>\n",
       "    <tr>\n",
       "      <th>4</th>\n",
       "      <td>4</td>\n",
       "      <td>143</td>\n",
       "      <td>59</td>\n",
       "      <td>100.0</td>\n",
       "      <td>0</td>\n",
       "    </tr>\n",
       "  </tbody>\n",
       "</table>\n",
       "</div>"
      ],
      "text/plain": [
       "   Baby_ID  Heart_Rate  Respiratory_Rate  Oxygen_Saturation Pain_Level\n",
       "0        0         142                60              100.0          0\n",
       "1        1         142                60              100.0          0\n",
       "2        2         142                60              100.0          0\n",
       "3        3         142                59              100.0          0\n",
       "4        4         143                59              100.0          0"
      ]
     },
     "execution_count": 4,
     "metadata": {},
     "output_type": "execute_result"
    }
   ],
   "source": [
    "# Define data directory path\n",
    "data_dir = \"./Data/\"\n",
    "\n",
    "data_frames = [] # empty list to hold DataFrames\n",
    "\n",
    "# Combine data into single DataFrame\n",
    "# loop over each subfolder\n",
    "for subfolder in os.listdir(data_dir):\n",
    "    subfolder_path = os.path.join(data_dir, subfolder)\n",
    "    # check if directory\n",
    "    if os.path.isdir(subfolder_path):\n",
    "        # loop over all csv\n",
    "        for file in os.listdir(subfolder_path):\n",
    "            if file.endswith(\".csv\"):\n",
    "                file_path = os.path.join(subfolder_path, file)\n",
    "                df = pd.read_csv(file_path, header=None) #read csv\n",
    "                data_frames.append(df) # add Datafram to list\n",
    "combined_data = pd.concat(data_frames, ignore_index=True) #combine into single DataFrame\n",
    "combined_data.columns = [\"Baby_ID\", \"Heart_Rate\", \"Respiratory_Rate\", \"Oxygen_Saturation\", \"Pain_Level\"] # rename columns for clarity\n",
    "combined_data = combined_data[combined_data[\"Pain_Level\"] != \"#\"] # remove rows with \"#\" in the 4th column\n",
    "# Remove the pesky typo\n",
    "combined_data[\"Heart_Rate\"] = pd.to_numeric(combined_data[\"Heart_Rate\"], errors='coerce')\n",
    "combined_data[\"Respiratory_Rate\"] = pd.to_numeric(combined_data[\"Respiratory_Rate\"], errors='coerce')\n",
    "combined_data[\"Oxygen_Saturation\"] = pd.to_numeric(combined_data[\"Oxygen_Saturation\"], errors='coerce')\n",
    "combined_data.dropna(subset=[\"Heart_Rate\", \"Respiratory_Rate\", \"Oxygen_Saturation\"], inplace=True)\n",
    "combined_data.head() # for clarity (display first few columns)"
   ]
  },
  {
   "cell_type": "markdown",
   "metadata": {},
   "source": [
    "<h1>Shuffle/Split Dataset</h1>"
   ]
  },
  {
   "cell_type": "code",
   "execution_count": 5,
   "metadata": {},
   "outputs": [],
   "source": [
    "combined_data = shuffle(combined_data, random_state=42) # shuffle dataset\n",
    "train, temp = train_test_split(combined_data, test_size=0.1, random_state=42) # split to training/temp sets (90% training, 10% temp)\n",
    "validation, test = train_test_split(temp, test_size=0.5, random_state=42) # split temp set into validation/test sets (10% of total each)\n",
    "\n",
    "# separate features/labels for each set\n",
    "X_train = train[[\"Heart_Rate\", \"Respiratory_Rate\", \"Oxygen_Saturation\"]]\n",
    "y_train = train[\"Pain_Level\"]\n",
    "X_val = validation[[\"Heart_Rate\", \"Respiratory_Rate\", \"Oxygen_Saturation\"]]\n",
    "y_val = validation[\"Pain_Level\"]\n",
    "X_test = test[[\"Heart_Rate\", \"Respiratory_Rate\", \"Oxygen_Saturation\"]]\n",
    "y_test = test[\"Pain_Level\"]"
   ]
  },
  {
   "cell_type": "markdown",
   "metadata": {},
   "source": [
    "<h1>Normalization</h1>"
   ]
  },
  {
   "cell_type": "code",
   "execution_count": 6,
   "metadata": {},
   "outputs": [
    {
     "data": {
      "text/html": [
       "<div>\n",
       "<style scoped>\n",
       "    .dataframe tbody tr th:only-of-type {\n",
       "        vertical-align: middle;\n",
       "    }\n",
       "\n",
       "    .dataframe tbody tr th {\n",
       "        vertical-align: top;\n",
       "    }\n",
       "\n",
       "    .dataframe thead th {\n",
       "        text-align: right;\n",
       "    }\n",
       "</style>\n",
       "<table border=\"1\" class=\"dataframe\">\n",
       "  <thead>\n",
       "    <tr style=\"text-align: right;\">\n",
       "      <th></th>\n",
       "      <th>Heart_Rate</th>\n",
       "      <th>Respiratory_Rate</th>\n",
       "      <th>Oxygen_Saturation</th>\n",
       "    </tr>\n",
       "  </thead>\n",
       "  <tbody>\n",
       "    <tr>\n",
       "      <th>0</th>\n",
       "      <td>-0.008015</td>\n",
       "      <td>1.379319</td>\n",
       "      <td>0.346797</td>\n",
       "    </tr>\n",
       "    <tr>\n",
       "      <th>1</th>\n",
       "      <td>0.179711</td>\n",
       "      <td>-0.030464</td>\n",
       "      <td>0.346797</td>\n",
       "    </tr>\n",
       "    <tr>\n",
       "      <th>2</th>\n",
       "      <td>0.254802</td>\n",
       "      <td>1.072845</td>\n",
       "      <td>0.272768</td>\n",
       "    </tr>\n",
       "    <tr>\n",
       "      <th>3</th>\n",
       "      <td>-0.008015</td>\n",
       "      <td>0.521190</td>\n",
       "      <td>0.346797</td>\n",
       "    </tr>\n",
       "    <tr>\n",
       "      <th>4</th>\n",
       "      <td>-0.777694</td>\n",
       "      <td>-1.440248</td>\n",
       "      <td>0.346797</td>\n",
       "    </tr>\n",
       "  </tbody>\n",
       "</table>\n",
       "</div>"
      ],
      "text/plain": [
       "   Heart_Rate  Respiratory_Rate  Oxygen_Saturation\n",
       "0   -0.008015          1.379319           0.346797\n",
       "1    0.179711         -0.030464           0.346797\n",
       "2    0.254802          1.072845           0.272768\n",
       "3   -0.008015          0.521190           0.346797\n",
       "4   -0.777694         -1.440248           0.346797"
      ]
     },
     "execution_count": 6,
     "metadata": {},
     "output_type": "execute_result"
    }
   ],
   "source": [
    "scaler = StandardScaler()\n",
    "\n",
    "# Normalization for feature columns\n",
    "X_train = scaler.fit_transform(train[[\"Heart_Rate\", \"Respiratory_Rate\", \"Oxygen_Saturation\"]])\n",
    "X_val = scaler.transform(validation[[\"Heart_Rate\", \"Respiratory_Rate\", \"Oxygen_Saturation\"]])\n",
    "X_test = scaler.transform(test[[\"Heart_Rate\", \"Respiratory_Rate\", \"Oxygen_Saturation\"]])\n",
    "# Convert normalized arrays back to DataFrames\n",
    "X_train = pd.DataFrame(X_train, columns=[\"Heart_Rate\", \"Respiratory_Rate\", \"Oxygen_Saturation\"])\n",
    "X_val = pd.DataFrame(X_val, columns=[\"Heart_Rate\", \"Respiratory_Rate\", \"Oxygen_Saturation\"])\n",
    "X_test = pd.DataFrame(X_test, columns=[\"Heart_Rate\", \"Respiratory_Rate\", \"Oxygen_Saturation\"])\n",
    "# Label extraction\n",
    "y_train = train[\"Pain_Level\"].reset_index(drop=True)\n",
    "y_val = validation[\"Pain_Level\"].reset_index(drop=True)\n",
    "y_test = test[\"Pain_Level\"].reset_index(drop=True)\n",
    "\n",
    "X_train.head() # for clarity (display first few columns)"
   ]
  },
  {
   "cell_type": "code",
   "execution_count": 7,
   "metadata": {},
   "outputs": [],
   "source": [
    "#Convert to float32/reshape to (samples, timesteps, features)\n",
    "X_train = X_train.values.astype('float32').reshape(-1, 3, 1)\n",
    "X_val = X_val.values.astype('float32').reshape(-1, 3, 1)\n",
    "X_test = X_test.values.astype('float32').reshape(-1, 3, 1)\n",
    "\n",
    "# Convert to int32\n",
    "y_train = y_train.astype('int32')\n",
    "y_val = y_val.astype('int32')\n",
    "y_test = y_test.astype('int32')"
   ]
  },
  {
   "cell_type": "markdown",
   "metadata": {},
   "source": [
    "# LSTM Model"
   ]
  },
  {
   "cell_type": "code",
   "execution_count": 8,
   "metadata": {},
   "outputs": [
    {
     "name": "stdout",
     "output_type": "stream",
     "text": [
      "Model: \"sequential\"\n",
      "_________________________________________________________________\n",
      " Layer (type)                Output Shape              Param #   \n",
      "=================================================================\n",
      " lstm (LSTM)                 (None, 3, 16)             1152      \n",
      "                                                                 \n",
      " batch_normalization (BatchN  (None, 3, 16)            64        \n",
      " ormalization)                                                   \n",
      "                                                                 \n",
      " dropout (Dropout)           (None, 3, 16)             0         \n",
      "                                                                 \n",
      " lstm_1 (LSTM)               (None, 3, 32)             6272      \n",
      "                                                                 \n",
      " batch_normalization_1 (Batc  (None, 3, 32)            128       \n",
      " hNormalization)                                                 \n",
      "                                                                 \n",
      " dropout_1 (Dropout)         (None, 3, 32)             0         \n",
      "                                                                 \n",
      " lstm_2 (LSTM)               (None, 3, 64)             24832     \n",
      "                                                                 \n",
      " batch_normalization_2 (Batc  (None, 3, 64)            256       \n",
      " hNormalization)                                                 \n",
      "                                                                 \n",
      " dropout_2 (Dropout)         (None, 3, 64)             0         \n",
      "                                                                 \n",
      " lstm_3 (LSTM)               (None, 32)                12416     \n",
      "                                                                 \n",
      " dense (Dense)               (None, 3)                 99        \n",
      "                                                                 \n",
      "=================================================================\n",
      "Total params: 45,219\n",
      "Trainable params: 44,995\n",
      "Non-trainable params: 224\n",
      "_________________________________________________________________\n"
     ]
    }
   ],
   "source": [
    "# Model (1)\n",
    "model = Sequential([\n",
    "    LSTM(16, return_sequences=True, input_shape=(X_train.shape[1], X_train.shape[2]), kernel_regularizer=l2(0.001)),\n",
    "    BatchNormalization(),\n",
    "    Dropout(0.2),\n",
    "    LSTM(32, return_sequences=True, kernel_regularizer=l2(0.001)),\n",
    "    BatchNormalization(),\n",
    "    Dropout(0.2),\n",
    "    LSTM(64, return_sequences=True, kernel_regularizer=l2(0.001)),\n",
    "    BatchNormalization(),\n",
    "    Dropout(0.2),\n",
    "    LSTM(32, return_sequences=True, kernel_regularizer=l2(0.001)),\n",
    "    BatchNormalization(),\n",
    "    Dropout(0.2),\n",
    "    LSTM(16, return_sequences=False),\n",
    "    Dense(3, activation='softmax')\n",
    "])\n",
    "\n",
    "# Optimizer\n",
    "optimize = Adam(learning_rate=0.01)\n",
    "\n",
    "model.compile(optimizer=optimize, loss='sparse_categorical_crossentropy', metrics=['accuracy']) # compile\n",
    "model.summary() # display summary"
   ]
  },
  {
   "cell_type": "markdown",
   "metadata": {},
   "source": [
    "# LR Adjuster"
   ]
  },
  {
   "cell_type": "code",
   "execution_count": 9,
   "metadata": {},
   "outputs": [],
   "source": [
    "lr_adjuster = ReduceLROnPlateau(\n",
    "    monitor='val_loss',\n",
    "    factor=0.05,\n",
    "    patience=5,\n",
    "    verbose=1\n",
    ")"
   ]
  },
  {
   "cell_type": "markdown",
   "metadata": {},
   "source": [
    "# Model Training"
   ]
  },
  {
   "cell_type": "code",
   "execution_count": 10,
   "metadata": {},
   "outputs": [
    {
     "name": "stdout",
     "output_type": "stream",
     "text": [
      "Epoch 1/80\n",
      "492/492 [==============================] - 15s 16ms/step - loss: 0.7295 - accuracy: 0.7023 - val_loss: 0.6689 - val_accuracy: 0.7391 - lr: 0.0100\n",
      "Epoch 2/80\n",
      "492/492 [==============================] - 6s 13ms/step - loss: 0.6890 - accuracy: 0.7141 - val_loss: 0.6517 - val_accuracy: 0.7185 - lr: 0.0100\n",
      "Epoch 3/80\n",
      "492/492 [==============================] - 7s 14ms/step - loss: 0.6987 - accuracy: 0.7084 - val_loss: 0.6647 - val_accuracy: 0.7449 - lr: 0.0100\n",
      "Epoch 4/80\n",
      "492/492 [==============================] - 7s 13ms/step - loss: 0.6864 - accuracy: 0.7136 - val_loss: 0.6771 - val_accuracy: 0.7311 - lr: 0.0100\n",
      "Epoch 5/80\n",
      "492/492 [==============================] - 7s 14ms/step - loss: 0.6818 - accuracy: 0.7219 - val_loss: 0.6769 - val_accuracy: 0.7162 - lr: 0.0100\n",
      "Epoch 6/80\n",
      "492/492 [==============================] - 7s 14ms/step - loss: 0.6764 - accuracy: 0.7198 - val_loss: 0.6628 - val_accuracy: 0.7277 - lr: 0.0100\n",
      "Epoch 7/80\n",
      "491/492 [============================>.] - ETA: 0s - loss: 0.6719 - accuracy: 0.7205\n",
      "Epoch 7: ReduceLROnPlateau reducing learning rate to 0.0004999999888241291.\n",
      "492/492 [==============================] - 7s 14ms/step - loss: 0.6719 - accuracy: 0.7205 - val_loss: 0.6542 - val_accuracy: 0.7059 - lr: 0.0100\n",
      "Epoch 8/80\n",
      "492/492 [==============================] - 7s 15ms/step - loss: 0.6512 - accuracy: 0.7241 - val_loss: 0.6072 - val_accuracy: 0.7460 - lr: 5.0000e-04\n",
      "Epoch 9/80\n",
      "492/492 [==============================] - 7s 14ms/step - loss: 0.6365 - accuracy: 0.7315 - val_loss: 0.6006 - val_accuracy: 0.7437 - lr: 5.0000e-04\n",
      "Epoch 10/80\n",
      "492/492 [==============================] - 7s 14ms/step - loss: 0.6326 - accuracy: 0.7327 - val_loss: 0.5953 - val_accuracy: 0.7426 - lr: 5.0000e-04\n",
      "Epoch 11/80\n",
      "492/492 [==============================] - 7s 15ms/step - loss: 0.6250 - accuracy: 0.7359 - val_loss: 0.5959 - val_accuracy: 0.7426 - lr: 5.0000e-04\n",
      "Epoch 12/80\n",
      "492/492 [==============================] - 7s 15ms/step - loss: 0.6215 - accuracy: 0.7378 - val_loss: 0.5810 - val_accuracy: 0.7517 - lr: 5.0000e-04\n",
      "Epoch 13/80\n",
      "492/492 [==============================] - 7s 14ms/step - loss: 0.6210 - accuracy: 0.7360 - val_loss: 0.5826 - val_accuracy: 0.7460 - lr: 5.0000e-04\n",
      "Epoch 14/80\n",
      "492/492 [==============================] - 7s 13ms/step - loss: 0.6184 - accuracy: 0.7373 - val_loss: 0.5824 - val_accuracy: 0.7460 - lr: 5.0000e-04\n",
      "Epoch 15/80\n",
      "492/492 [==============================] - 7s 14ms/step - loss: 0.6182 - accuracy: 0.7338 - val_loss: 0.5890 - val_accuracy: 0.7414 - lr: 5.0000e-04\n",
      "Epoch 16/80\n",
      "492/492 [==============================] - 7s 14ms/step - loss: 0.6159 - accuracy: 0.7387 - val_loss: 0.5787 - val_accuracy: 0.7471 - lr: 5.0000e-04\n",
      "Epoch 17/80\n",
      "492/492 [==============================] - 7s 14ms/step - loss: 0.6145 - accuracy: 0.7362 - val_loss: 0.5796 - val_accuracy: 0.7471 - lr: 5.0000e-04\n",
      "Epoch 18/80\n",
      "492/492 [==============================] - 7s 14ms/step - loss: 0.6120 - accuracy: 0.7409 - val_loss: 0.5779 - val_accuracy: 0.7471 - lr: 5.0000e-04\n",
      "Epoch 19/80\n",
      "492/492 [==============================] - 7s 14ms/step - loss: 0.6078 - accuracy: 0.7401 - val_loss: 0.5742 - val_accuracy: 0.7460 - lr: 5.0000e-04\n",
      "Epoch 20/80\n",
      "492/492 [==============================] - 7s 14ms/step - loss: 0.6131 - accuracy: 0.7388 - val_loss: 0.5780 - val_accuracy: 0.7437 - lr: 5.0000e-04\n",
      "Epoch 21/80\n",
      "492/492 [==============================] - 7s 14ms/step - loss: 0.6121 - accuracy: 0.7391 - val_loss: 0.5746 - val_accuracy: 0.7471 - lr: 5.0000e-04\n",
      "Epoch 22/80\n",
      "492/492 [==============================] - 7s 14ms/step - loss: 0.6114 - accuracy: 0.7379 - val_loss: 0.5792 - val_accuracy: 0.7483 - lr: 5.0000e-04\n",
      "Epoch 23/80\n",
      "492/492 [==============================] - 7s 14ms/step - loss: 0.6079 - accuracy: 0.7423 - val_loss: 0.5755 - val_accuracy: 0.7551 - lr: 5.0000e-04\n",
      "Epoch 24/80\n",
      "492/492 [==============================] - 7s 14ms/step - loss: 0.6102 - accuracy: 0.7401 - val_loss: 0.5725 - val_accuracy: 0.7506 - lr: 5.0000e-04\n",
      "Epoch 25/80\n",
      "492/492 [==============================] - 7s 14ms/step - loss: 0.6088 - accuracy: 0.7423 - val_loss: 0.5851 - val_accuracy: 0.7403 - lr: 5.0000e-04\n",
      "Epoch 26/80\n",
      "492/492 [==============================] - 7s 14ms/step - loss: 0.6059 - accuracy: 0.7416 - val_loss: 0.5690 - val_accuracy: 0.7574 - lr: 5.0000e-04\n",
      "Epoch 27/80\n",
      "492/492 [==============================] - 7s 14ms/step - loss: 0.6058 - accuracy: 0.7431 - val_loss: 0.5757 - val_accuracy: 0.7471 - lr: 5.0000e-04\n",
      "Epoch 28/80\n",
      "492/492 [==============================] - 7s 14ms/step - loss: 0.6040 - accuracy: 0.7433 - val_loss: 0.5731 - val_accuracy: 0.7449 - lr: 5.0000e-04\n",
      "Epoch 29/80\n",
      "492/492 [==============================] - 7s 15ms/step - loss: 0.6057 - accuracy: 0.7470 - val_loss: 0.5762 - val_accuracy: 0.7449 - lr: 5.0000e-04\n",
      "Epoch 30/80\n",
      "492/492 [==============================] - 7s 14ms/step - loss: 0.6040 - accuracy: 0.7423 - val_loss: 0.5700 - val_accuracy: 0.7494 - lr: 5.0000e-04\n",
      "Epoch 31/80\n",
      "492/492 [==============================] - ETA: 0s - loss: 0.6037 - accuracy: 0.7439\n",
      "Epoch 31: ReduceLROnPlateau reducing learning rate to 2.4999998277053238e-05.\n",
      "492/492 [==============================] - 7s 14ms/step - loss: 0.6037 - accuracy: 0.7439 - val_loss: 0.5732 - val_accuracy: 0.7449 - lr: 5.0000e-04\n",
      "Epoch 32/80\n",
      "492/492 [==============================] - 7s 14ms/step - loss: 0.6009 - accuracy: 0.7442 - val_loss: 0.5712 - val_accuracy: 0.7460 - lr: 2.5000e-05\n",
      "Epoch 33/80\n",
      "492/492 [==============================] - 7s 14ms/step - loss: 0.5996 - accuracy: 0.7439 - val_loss: 0.5711 - val_accuracy: 0.7460 - lr: 2.5000e-05\n",
      "Epoch 34/80\n",
      "492/492 [==============================] - 7s 14ms/step - loss: 0.6015 - accuracy: 0.7446 - val_loss: 0.5708 - val_accuracy: 0.7460 - lr: 2.5000e-05\n",
      "Epoch 35/80\n",
      "492/492 [==============================] - 7s 14ms/step - loss: 0.6007 - accuracy: 0.7462 - val_loss: 0.5696 - val_accuracy: 0.7471 - lr: 2.5000e-05\n",
      "Epoch 36/80\n",
      "492/492 [==============================] - 7s 14ms/step - loss: 0.5985 - accuracy: 0.7475 - val_loss: 0.5688 - val_accuracy: 0.7449 - lr: 2.5000e-05\n",
      "Epoch 37/80\n",
      "492/492 [==============================] - 7s 14ms/step - loss: 0.5996 - accuracy: 0.7456 - val_loss: 0.5688 - val_accuracy: 0.7471 - lr: 2.5000e-05\n",
      "Epoch 38/80\n",
      "492/492 [==============================] - 7s 14ms/step - loss: 0.6009 - accuracy: 0.7436 - val_loss: 0.5683 - val_accuracy: 0.7471 - lr: 2.5000e-05\n",
      "Epoch 39/80\n",
      "492/492 [==============================] - 7s 14ms/step - loss: 0.5984 - accuracy: 0.7454 - val_loss: 0.5691 - val_accuracy: 0.7483 - lr: 2.5000e-05\n",
      "Epoch 40/80\n",
      "492/492 [==============================] - 7s 14ms/step - loss: 0.5995 - accuracy: 0.7442 - val_loss: 0.5690 - val_accuracy: 0.7471 - lr: 2.5000e-05\n",
      "Epoch 41/80\n",
      "492/492 [==============================] - 7s 13ms/step - loss: 0.6004 - accuracy: 0.7449 - val_loss: 0.5671 - val_accuracy: 0.7471 - lr: 2.5000e-05\n",
      "Epoch 42/80\n",
      "492/492 [==============================] - 7s 14ms/step - loss: 0.5999 - accuracy: 0.7438 - val_loss: 0.5682 - val_accuracy: 0.7460 - lr: 2.5000e-05\n",
      "Epoch 43/80\n",
      "492/492 [==============================] - 7s 14ms/step - loss: 0.5992 - accuracy: 0.7467 - val_loss: 0.5668 - val_accuracy: 0.7471 - lr: 2.5000e-05\n",
      "Epoch 44/80\n",
      "492/492 [==============================] - 6s 13ms/step - loss: 0.6003 - accuracy: 0.7467 - val_loss: 0.5671 - val_accuracy: 0.7471 - lr: 2.5000e-05\n",
      "Epoch 45/80\n",
      "492/492 [==============================] - 7s 13ms/step - loss: 0.5993 - accuracy: 0.7445 - val_loss: 0.5674 - val_accuracy: 0.7471 - lr: 2.5000e-05\n",
      "Epoch 46/80\n",
      "492/492 [==============================] - 7s 14ms/step - loss: 0.5982 - accuracy: 0.7470 - val_loss: 0.5665 - val_accuracy: 0.7471 - lr: 2.5000e-05\n",
      "Epoch 47/80\n",
      "492/492 [==============================] - 7s 14ms/step - loss: 0.5988 - accuracy: 0.7463 - val_loss: 0.5668 - val_accuracy: 0.7483 - lr: 2.5000e-05\n",
      "Epoch 48/80\n",
      "492/492 [==============================] - 7s 14ms/step - loss: 0.5968 - accuracy: 0.7482 - val_loss: 0.5666 - val_accuracy: 0.7471 - lr: 2.5000e-05\n",
      "Epoch 49/80\n",
      "492/492 [==============================] - 7s 14ms/step - loss: 0.5991 - accuracy: 0.7449 - val_loss: 0.5668 - val_accuracy: 0.7460 - lr: 2.5000e-05\n",
      "Epoch 50/80\n",
      "492/492 [==============================] - 7s 14ms/step - loss: 0.5983 - accuracy: 0.7460 - val_loss: 0.5669 - val_accuracy: 0.7471 - lr: 2.5000e-05\n",
      "Epoch 51/80\n",
      "492/492 [==============================] - 7s 13ms/step - loss: 0.5994 - accuracy: 0.7463 - val_loss: 0.5664 - val_accuracy: 0.7483 - lr: 2.5000e-05\n",
      "Epoch 52/80\n",
      "492/492 [==============================] - 7s 14ms/step - loss: 0.5989 - accuracy: 0.7451 - val_loss: 0.5670 - val_accuracy: 0.7471 - lr: 2.5000e-05\n",
      "Epoch 53/80\n",
      "492/492 [==============================] - 7s 14ms/step - loss: 0.5995 - accuracy: 0.7456 - val_loss: 0.5664 - val_accuracy: 0.7471 - lr: 2.5000e-05\n",
      "Epoch 54/80\n",
      "492/492 [==============================] - 7s 14ms/step - loss: 0.5994 - accuracy: 0.7456 - val_loss: 0.5654 - val_accuracy: 0.7529 - lr: 2.5000e-05\n",
      "Epoch 55/80\n",
      "492/492 [==============================] - 7s 14ms/step - loss: 0.5991 - accuracy: 0.7469 - val_loss: 0.5662 - val_accuracy: 0.7471 - lr: 2.5000e-05\n",
      "Epoch 56/80\n",
      "492/492 [==============================] - 7s 14ms/step - loss: 0.5992 - accuracy: 0.7476 - val_loss: 0.5666 - val_accuracy: 0.7471 - lr: 2.5000e-05\n",
      "Epoch 57/80\n",
      "492/492 [==============================] - 7s 14ms/step - loss: 0.5992 - accuracy: 0.7477 - val_loss: 0.5656 - val_accuracy: 0.7506 - lr: 2.5000e-05\n",
      "Epoch 58/80\n",
      "492/492 [==============================] - 6s 13ms/step - loss: 0.5990 - accuracy: 0.7495 - val_loss: 0.5654 - val_accuracy: 0.7460 - lr: 2.5000e-05\n",
      "Epoch 59/80\n",
      "488/492 [============================>.] - ETA: 0s - loss: 0.5975 - accuracy: 0.7469\n",
      "Epoch 59: ReduceLROnPlateau reducing learning rate to 1.249999877472874e-06.\n",
      "492/492 [==============================] - 7s 14ms/step - loss: 0.5978 - accuracy: 0.7466 - val_loss: 0.5659 - val_accuracy: 0.7483 - lr: 2.5000e-05\n",
      "Epoch 60/80\n",
      "492/492 [==============================] - 7s 14ms/step - loss: 0.5993 - accuracy: 0.7484 - val_loss: 0.5648 - val_accuracy: 0.7506 - lr: 1.2500e-06\n",
      "Epoch 61/80\n",
      "492/492 [==============================] - 7s 13ms/step - loss: 0.5995 - accuracy: 0.7467 - val_loss: 0.5659 - val_accuracy: 0.7483 - lr: 1.2500e-06\n",
      "Epoch 62/80\n",
      "492/492 [==============================] - 7s 14ms/step - loss: 0.5996 - accuracy: 0.7456 - val_loss: 0.5653 - val_accuracy: 0.7471 - lr: 1.2500e-06\n",
      "Epoch 63/80\n",
      "492/492 [==============================] - 7s 14ms/step - loss: 0.5978 - accuracy: 0.7467 - val_loss: 0.5645 - val_accuracy: 0.7563 - lr: 1.2500e-06\n",
      "Epoch 64/80\n",
      "492/492 [==============================] - 7s 14ms/step - loss: 0.6000 - accuracy: 0.7474 - val_loss: 0.5650 - val_accuracy: 0.7494 - lr: 1.2500e-06\n",
      "Epoch 65/80\n",
      "492/492 [==============================] - 7s 14ms/step - loss: 0.5994 - accuracy: 0.7453 - val_loss: 0.5651 - val_accuracy: 0.7494 - lr: 1.2500e-06\n",
      "Epoch 66/80\n",
      "492/492 [==============================] - 7s 14ms/step - loss: 0.5975 - accuracy: 0.7449 - val_loss: 0.5653 - val_accuracy: 0.7483 - lr: 1.2500e-06\n",
      "Epoch 67/80\n",
      "492/492 [==============================] - 7s 14ms/step - loss: 0.5992 - accuracy: 0.7456 - val_loss: 0.5654 - val_accuracy: 0.7471 - lr: 1.2500e-06\n",
      "Epoch 68/80\n",
      "490/492 [============================>.] - ETA: 0s - loss: 0.5978 - accuracy: 0.7455\n",
      "Epoch 68: ReduceLROnPlateau reducing learning rate to 6.249999273677531e-08.\n",
      "492/492 [==============================] - 7s 14ms/step - loss: 0.5973 - accuracy: 0.7455 - val_loss: 0.5650 - val_accuracy: 0.7483 - lr: 1.2500e-06\n",
      "Epoch 69/80\n",
      "492/492 [==============================] - 7s 14ms/step - loss: 0.5988 - accuracy: 0.7461 - val_loss: 0.5651 - val_accuracy: 0.7483 - lr: 6.2500e-08\n",
      "Epoch 70/80\n",
      "492/492 [==============================] - 7s 13ms/step - loss: 0.5984 - accuracy: 0.7454 - val_loss: 0.5657 - val_accuracy: 0.7483 - lr: 6.2500e-08\n",
      "Epoch 71/80\n",
      "492/492 [==============================] - 7s 13ms/step - loss: 0.5961 - accuracy: 0.7476 - val_loss: 0.5657 - val_accuracy: 0.7460 - lr: 6.2500e-08\n",
      "Epoch 72/80\n",
      "492/492 [==============================] - 7s 14ms/step - loss: 0.5981 - accuracy: 0.7445 - val_loss: 0.5655 - val_accuracy: 0.7483 - lr: 6.2500e-08\n",
      "Epoch 73/80\n",
      "490/492 [============================>.] - ETA: 0s - loss: 0.5975 - accuracy: 0.7480\n",
      "Epoch 73: ReduceLROnPlateau reducing learning rate to 3.124999636838766e-09.\n",
      "492/492 [==============================] - 7s 14ms/step - loss: 0.5969 - accuracy: 0.7485 - val_loss: 0.5660 - val_accuracy: 0.7483 - lr: 6.2500e-08\n",
      "Epoch 74/80\n",
      "492/492 [==============================] - 7s 14ms/step - loss: 0.5986 - accuracy: 0.7467 - val_loss: 0.5658 - val_accuracy: 0.7483 - lr: 3.1250e-09\n",
      "Epoch 75/80\n",
      "492/492 [==============================] - 7s 14ms/step - loss: 0.5979 - accuracy: 0.7484 - val_loss: 0.5661 - val_accuracy: 0.7483 - lr: 3.1250e-09\n",
      "Epoch 76/80\n",
      "492/492 [==============================] - 7s 14ms/step - loss: 0.5968 - accuracy: 0.7458 - val_loss: 0.5658 - val_accuracy: 0.7483 - lr: 3.1250e-09\n",
      "Epoch 77/80\n",
      "492/492 [==============================] - 7s 13ms/step - loss: 0.5978 - accuracy: 0.7441 - val_loss: 0.5648 - val_accuracy: 0.7494 - lr: 3.1250e-09\n",
      "Epoch 78/80\n",
      "490/492 [============================>.] - ETA: 0s - loss: 0.5988 - accuracy: 0.7468\n",
      "Epoch 78: ReduceLROnPlateau reducing learning rate to 1.5624997962149225e-10.\n",
      "492/492 [==============================] - 7s 14ms/step - loss: 0.5987 - accuracy: 0.7469 - val_loss: 0.5650 - val_accuracy: 0.7494 - lr: 3.1250e-09\n",
      "Epoch 79/80\n",
      "492/492 [==============================] - 7s 14ms/step - loss: 0.5965 - accuracy: 0.7466 - val_loss: 0.5657 - val_accuracy: 0.7483 - lr: 1.5625e-10\n",
      "Epoch 80/80\n",
      "492/492 [==============================] - 7s 13ms/step - loss: 0.5977 - accuracy: 0.7471 - val_loss: 0.5653 - val_accuracy: 0.7471 - lr: 1.5625e-10\n"
     ]
    }
   ],
   "source": [
    "# Parameters\n",
    "epochs = 80\n",
    "batch_size = 32\n",
    "\n",
    "# train\n",
    "history = model.fit(\n",
    "    X_train, y_train,\n",
    "    validation_data=(X_val, y_val),\n",
    "    epochs=epochs,\n",
    "    batch_size=batch_size,\n",
    "    callbacks=[lr_adjuster],\n",
    "    verbose=1\n",
    ")"
   ]
  },
  {
   "cell_type": "markdown",
   "metadata": {},
   "source": [
    "# Save Model"
   ]
  },
  {
   "cell_type": "code",
   "execution_count": 11,
   "metadata": {},
   "outputs": [
    {
     "name": "stdout",
     "output_type": "stream",
     "text": [
      "Model saved to: saved_model\\project2_part2_model.h5\n"
     ]
    }
   ],
   "source": [
    "def save_model(model, model_dir='saved_model', model_name='project2_part2_model.h5'):\n",
    "    os.makedirs(model_dir, exist_ok=True) # create dir if no exist\n",
    "    model_path = os.path.join(model_dir, model_name)\n",
    "    model.save(model_path)\n",
    "    print(f\"Model saved to: {model_path}\")\n",
    "    \n",
    "# uncomment below code to save current model\n",
    "save_model(model)"
   ]
  },
  {
   "cell_type": "markdown",
   "metadata": {},
   "source": [
    "# Plotting"
   ]
  },
  {
   "cell_type": "code",
   "execution_count": 12,
   "metadata": {},
   "outputs": [
    {
     "data": {
      "image/png": "[encoded data removed]",
      "text/plain": [
       "<Figure size 640x480 with 1 Axes>"
      ]
     },
     "metadata": {},
     "output_type": "display_data"
    },
    {
     "data": {
      "image/png": "[encoded data removed]",
      "text/plain": [
       "<Figure size 640x480 with 1 Axes>"
      ]
     },
     "metadata": {},
     "output_type": "display_data"
    }
   ],
   "source": [
    "# Training/Validation Accuracy\n",
    "plt.plot(history.history['accuracy'])\n",
    "plt.plot(history.history['val_accuracy'])\n",
    "plt.title('Model Accuracy')\n",
    "plt.ylabel('Accuracy')\n",
    "plt.xlabel('Epoch')\n",
    "plt.legend(['Train', 'Validation'], loc='upper left')\n",
    "plt.show()\n",
    "\n",
    "# Training/Validation Loss\n",
    "plt.plot(history.history['loss'])\n",
    "plt.plot(history.history['val_loss'])\n",
    "plt.title('Loss Over Epochs')\n",
    "plt.ylabel('Loss')\n",
    "plt.xlabel('Epoch')\n",
    "plt.legend(['Train', 'Validation'], loc='upper left')\n",
    "plt.show()"
   ]
  },
  {
   "cell_type": "code",
   "execution_count": null,
   "metadata": {},
   "outputs": [],
   "source": []
  }
 ],
 "metadata": {
  "kernelspec": {
   "display_name": "Python 3 (ipykernel)",
   "language": "python",
   "name": "python3"
  },
  "language_info": {
   "codemirror_mode": {
    "name": "ipython",
    "version": 3
   },
   "file_extension": ".py",
   "mimetype": "text/x-python",
   "name": "python",
   "nbconvert_exporter": "python",
   "pygments_lexer": "ipython3",
   "version": "3.9.20"
  }
 },
 "nbformat": 4,
 "nbformat_minor": 4
}
