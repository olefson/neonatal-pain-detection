{
 "cells": [
  {
   "cell_type": "markdown",
   "metadata": {},
   "source": [
    "<h1>Jason Olefson Project 2 Part 1 Deep Learning</h1>"
   ]
  },
  {
   "cell_type": "markdown",
   "metadata": {},
   "source": [
    "<h1>Imports</h1>"
   ]
  },
  {
   "cell_type": "code",
   "execution_count": 1,
   "metadata": {},
   "outputs": [],
   "source": [
    "import os\n",
    "import pandas as pd\n",
    "import tensorflow as tf\n",
    "from tensorflow.keras.models import Sequential\n",
    "from tensorflow.keras.layers import LSTM, Dropout, Dense, BatchNormalization\n",
    "from tensorflow.keras.optimizers import Adam\n",
    "from tensorflow.keras.callbacks import ReduceLROnPlateau\n",
    "from tensorflow.keras.regularizers import l2\n",
    "from sklearn.preprocessing import StandardScaler\n",
    "from sklearn.model_selection import train_test_split\n",
    "from sklearn.utils import shuffle\n",
    "import matplotlib.pyplot as plt"
   ]
  },
  {
   "cell_type": "markdown",
   "metadata": {},
   "source": [
    "<h1>GPU Check</h1>\n",
    "<h3>IMPORTANT In this project, I used my GPU (NVIDIA RTX 4080) to train my model. Because of this, you may need to configure the first few blocks on this file to run on your device. Thank you.</h3>"
   ]
  },
  {
   "cell_type": "code",
   "execution_count": 2,
   "metadata": {},
   "outputs": [
    {
     "name": "stdout",
     "output_type": "stream",
     "text": [
      "[name: \"/device:CPU:0\"\n",
      "device_type: \"CPU\"\n",
      "memory_limit: 268435456\n",
      "locality {\n",
      "}\n",
      "incarnation: 11878315405119512809\n",
      "xla_global_id: -1\n",
      ", name: \"/device:GPU:0\"\n",
      "device_type: \"GPU\"\n",
      "memory_limit: 14048821248\n",
      "locality {\n",
      "  bus_id: 1\n",
      "  links {\n",
      "  }\n",
      "}\n",
      "incarnation: 8333177785796473410\n",
      "physical_device_desc: \"device: 0, name: NVIDIA GeForce RTX 4080, pci bus id: 0000:01:00.0, compute capability: 8.9\"\n",
      "xla_global_id: 416903419\n",
      "]\n"
     ]
    }
   ],
   "source": [
    "# Check for GPU availability\n",
    "# print(\"Num GPUs Available: \", len(tf.config.list_physical_devices('GPU')))\n",
    "\n",
    "# # Check if TensorFlow is using GPU for cuDNN-enabled operations\n",
    "# print(\"Is TensorFlow using GPU?: \", tf.test.is_built_with_cuda())\n",
    "\n",
    "from tensorflow.python.client import device_lib\n",
    "print(device_lib.list_local_devices())"
   ]
  },
  {
   "cell_type": "code",
   "execution_count": 3,
   "metadata": {},
   "outputs": [
    {
     "name": "stdout",
     "output_type": "stream",
     "text": [
      "GPU is available and being used.\n"
     ]
    }
   ],
   "source": [
    "if tf.config.list_physical_devices('GPU'):\n",
    "    print(\"GPU is available and being used.\")\n",
    "else:\n",
    "    print(\"No GPU detected, using CPU.\")"
   ]
  },
  {
   "cell_type": "markdown",
   "metadata": {},
   "source": [
    "<h1>Data Prep</h1>"
   ]
  },
  {
   "cell_type": "code",
   "execution_count": 4,
   "metadata": {},
   "outputs": [
    {
     "data": {
      "text/html": [
       "<div>\n",
       "<style scoped>\n",
       "    .dataframe tbody tr th:only-of-type {\n",
       "        vertical-align: middle;\n",
       "    }\n",
       "\n",
       "    .dataframe tbody tr th {\n",
       "        vertical-align: top;\n",
       "    }\n",
       "\n",
       "    .dataframe thead th {\n",
       "        text-align: right;\n",
       "    }\n",
       "</style>\n",
       "<table border=\"1\" class=\"dataframe\">\n",
       "  <thead>\n",
       "    <tr style=\"text-align: right;\">\n",
       "      <th></th>\n",
       "      <th>Baby_ID</th>\n",
       "      <th>Heart_Rate</th>\n",
       "      <th>Respiratory_Rate</th>\n",
       "      <th>Oxygen_Saturation</th>\n",
       "      <th>Pain_Level</th>\n",
       "    </tr>\n",
       "  </thead>\n",
       "  <tbody>\n",
       "    <tr>\n",
       "      <th>0</th>\n",
       "      <td>0</td>\n",
       "      <td>142</td>\n",
       "      <td>60</td>\n",
       "      <td>100.0</td>\n",
       "      <td>0</td>\n",
       "    </tr>\n",
       "    <tr>\n",
       "      <th>1</th>\n",
       "      <td>1</td>\n",
       "      <td>142</td>\n",
       "      <td>60</td>\n",
       "      <td>100.0</td>\n",
       "      <td>0</td>\n",
       "    </tr>\n",
       "    <tr>\n",
       "      <th>2</th>\n",
       "      <td>2</td>\n",
       "      <td>142</td>\n",
       "      <td>60</td>\n",
       "      <td>100.0</td>\n",
       "      <td>0</td>\n",
       "    </tr>\n",
       "    <tr>\n",
       "      <th>3</th>\n",
       "      <td>3</td>\n",
       "      <td>142</td>\n",
       "      <td>59</td>\n",
       "      <td>100.0</td>\n",
       "      <td>0</td>\n",
       "    </tr>\n",
       "    <tr>\n",
       "      <th>4</th>\n",
       "      <td>4</td>\n",
       "      <td>143</td>\n",
       "      <td>59</td>\n",
       "      <td>100.0</td>\n",
       "      <td>0</td>\n",
       "    </tr>\n",
       "  </tbody>\n",
       "</table>\n",
       "</div>"
      ],
      "text/plain": [
       "   Baby_ID  Heart_Rate  Respiratory_Rate  Oxygen_Saturation Pain_Level\n",
       "0        0         142                60              100.0          0\n",
       "1        1         142                60              100.0          0\n",
       "2        2         142                60              100.0          0\n",
       "3        3         142                59              100.0          0\n",
       "4        4         143                59              100.0          0"
      ]
     },
     "execution_count": 4,
     "metadata": {},
     "output_type": "execute_result"
    }
   ],
   "source": [
    "# Define data directory path\n",
    "data_dir = \"./Data/\"\n",
    "\n",
    "data_frames = [] # empty list to hold DataFrames\n",
    "\n",
    "# Combine data into single DataFrame\n",
    "# loop over each subfolder\n",
    "for subfolder in os.listdir(data_dir):\n",
    "    subfolder_path = os.path.join(data_dir, subfolder)\n",
    "    # check if directory\n",
    "    if os.path.isdir(subfolder_path):\n",
    "        # loop over all csv\n",
    "        for file in os.listdir(subfolder_path):\n",
    "            if file.endswith(\".csv\"):\n",
    "                file_path = os.path.join(subfolder_path, file)\n",
    "                df = pd.read_csv(file_path, header=None) #read csv\n",
    "                data_frames.append(df) # add Datafram to list\n",
    "combined_data = pd.concat(data_frames, ignore_index=True) #combine into single DataFrame\n",
    "combined_data.columns = [\"Baby_ID\", \"Heart_Rate\", \"Respiratory_Rate\", \"Oxygen_Saturation\", \"Pain_Level\"] # rename columns for clarity\n",
    "combined_data = combined_data[combined_data[\"Pain_Level\"] != \"#\"] # remove rows with \"#\" in the 4th column\n",
    "# Remove the pesky typo\n",
    "combined_data[\"Heart_Rate\"] = pd.to_numeric(combined_data[\"Heart_Rate\"], errors='coerce')\n",
    "combined_data[\"Respiratory_Rate\"] = pd.to_numeric(combined_data[\"Respiratory_Rate\"], errors='coerce')\n",
    "combined_data[\"Oxygen_Saturation\"] = pd.to_numeric(combined_data[\"Oxygen_Saturation\"], errors='coerce')\n",
    "combined_data.dropna(subset=[\"Heart_Rate\", \"Respiratory_Rate\", \"Oxygen_Saturation\"], inplace=True)\n",
    "combined_data.head() # for clarity (display first few columns)"
   ]
  },
  {
   "cell_type": "markdown",
   "metadata": {},
   "source": [
    "<h1>Shuffle/Split Dataset</h1>"
   ]
  },
  {
   "cell_type": "code",
   "execution_count": 5,
   "metadata": {},
   "outputs": [],
   "source": [
    "combined_data = shuffle(combined_data, random_state=42) # shuffle dataset\n",
    "train, temp = train_test_split(combined_data, test_size=0.1, random_state=42) # split to training/temp sets (90% training, 10% temp)\n",
    "validation, test = train_test_split(temp, test_size=0.5, random_state=42) # split temp set into validation/test sets (10% of total each)\n",
    "\n",
    "# separate features/labels for each set\n",
    "X_train = train[[\"Heart_Rate\", \"Respiratory_Rate\", \"Oxygen_Saturation\"]]\n",
    "y_train = train[\"Pain_Level\"]\n",
    "X_val = validation[[\"Heart_Rate\", \"Respiratory_Rate\", \"Oxygen_Saturation\"]]\n",
    "y_val = validation[\"Pain_Level\"]\n",
    "X_test = test[[\"Heart_Rate\", \"Respiratory_Rate\", \"Oxygen_Saturation\"]]\n",
    "y_test = test[\"Pain_Level\"]"
   ]
  },
  {
   "cell_type": "markdown",
   "metadata": {},
   "source": [
    "<h1>Normalization</h1>"
   ]
  },
  {
   "cell_type": "code",
   "execution_count": 6,
   "metadata": {},
   "outputs": [
    {
     "data": {
      "text/html": [
       "<div>\n",
       "<style scoped>\n",
       "    .dataframe tbody tr th:only-of-type {\n",
       "        vertical-align: middle;\n",
       "    }\n",
       "\n",
       "    .dataframe tbody tr th {\n",
       "        vertical-align: top;\n",
       "    }\n",
       "\n",
       "    .dataframe thead th {\n",
       "        text-align: right;\n",
       "    }\n",
       "</style>\n",
       "<table border=\"1\" class=\"dataframe\">\n",
       "  <thead>\n",
       "    <tr style=\"text-align: right;\">\n",
       "      <th></th>\n",
       "      <th>Heart_Rate</th>\n",
       "      <th>Respiratory_Rate</th>\n",
       "      <th>Oxygen_Saturation</th>\n",
       "    </tr>\n",
       "  </thead>\n",
       "  <tbody>\n",
       "    <tr>\n",
       "      <th>0</th>\n",
       "      <td>-0.008015</td>\n",
       "      <td>1.379319</td>\n",
       "      <td>0.346797</td>\n",
       "    </tr>\n",
       "    <tr>\n",
       "      <th>1</th>\n",
       "      <td>0.179711</td>\n",
       "      <td>-0.030464</td>\n",
       "      <td>0.346797</td>\n",
       "    </tr>\n",
       "    <tr>\n",
       "      <th>2</th>\n",
       "      <td>0.254802</td>\n",
       "      <td>1.072845</td>\n",
       "      <td>0.272768</td>\n",
       "    </tr>\n",
       "    <tr>\n",
       "      <th>3</th>\n",
       "      <td>-0.008015</td>\n",
       "      <td>0.521190</td>\n",
       "      <td>0.346797</td>\n",
       "    </tr>\n",
       "    <tr>\n",
       "      <th>4</th>\n",
       "      <td>-0.777694</td>\n",
       "      <td>-1.440248</td>\n",
       "      <td>0.346797</td>\n",
       "    </tr>\n",
       "  </tbody>\n",
       "</table>\n",
       "</div>"
      ],
      "text/plain": [
       "   Heart_Rate  Respiratory_Rate  Oxygen_Saturation\n",
       "0   -0.008015          1.379319           0.346797\n",
       "1    0.179711         -0.030464           0.346797\n",
       "2    0.254802          1.072845           0.272768\n",
       "3   -0.008015          0.521190           0.346797\n",
       "4   -0.777694         -1.440248           0.346797"
      ]
     },
     "execution_count": 6,
     "metadata": {},
     "output_type": "execute_result"
    }
   ],
   "source": [
    "scaler = StandardScaler()\n",
    "\n",
    "# Normalization for feature columns\n",
    "X_train = scaler.fit_transform(train[[\"Heart_Rate\", \"Respiratory_Rate\", \"Oxygen_Saturation\"]])\n",
    "X_val = scaler.transform(validation[[\"Heart_Rate\", \"Respiratory_Rate\", \"Oxygen_Saturation\"]])\n",
    "X_test = scaler.transform(test[[\"Heart_Rate\", \"Respiratory_Rate\", \"Oxygen_Saturation\"]])\n",
    "# Convert normalized arrays back to DataFrames\n",
    "X_train = pd.DataFrame(X_train, columns=[\"Heart_Rate\", \"Respiratory_Rate\", \"Oxygen_Saturation\"])\n",
    "X_val = pd.DataFrame(X_val, columns=[\"Heart_Rate\", \"Respiratory_Rate\", \"Oxygen_Saturation\"])\n",
    "X_test = pd.DataFrame(X_test, columns=[\"Heart_Rate\", \"Respiratory_Rate\", \"Oxygen_Saturation\"])\n",
    "# Label extraction\n",
    "y_train = train[\"Pain_Level\"].reset_index(drop=True)\n",
    "y_val = validation[\"Pain_Level\"].reset_index(drop=True)\n",
    "y_test = test[\"Pain_Level\"].reset_index(drop=True)\n",
    "\n",
    "X_train.head() # for clarity (display first few columns)"
   ]
  },
  {
   "cell_type": "code",
   "execution_count": 7,
   "metadata": {},
   "outputs": [],
   "source": [
    "#Convert to float32/reshape to (samples, timesteps, features)\n",
    "X_train = X_train.values.astype('float32').reshape(-1, 3, 1)\n",
    "X_val = X_val.values.astype('float32').reshape(-1, 3, 1)\n",
    "X_test = X_test.values.astype('float32').reshape(-1, 3, 1)\n",
    "\n",
    "# Convert to int32\n",
    "y_train = y_train.astype('int32')\n",
    "y_val = y_val.astype('int32')\n",
    "y_test = y_test.astype('int32')"
   ]
  },
  {
   "cell_type": "markdown",
   "metadata": {},
   "source": [
    "# LSTM Model"
   ]
  },
  {
   "cell_type": "code",
   "execution_count": 8,
   "metadata": {},
   "outputs": [
    {
     "name": "stdout",
     "output_type": "stream",
     "text": [
      "Model: \"sequential\"\n",
      "_________________________________________________________________\n",
      " Layer (type)                Output Shape              Param #   \n",
      "=================================================================\n",
      " lstm (LSTM)                 (None, 3, 16)             1152      \n",
      "                                                                 \n",
      " batch_normalization (BatchN  (None, 3, 16)            64        \n",
      " ormalization)                                                   \n",
      "                                                                 \n",
      " dropout (Dropout)           (None, 3, 16)             0         \n",
      "                                                                 \n",
      " lstm_1 (LSTM)               (None, 3, 32)             6272      \n",
      "                                                                 \n",
      " batch_normalization_1 (Batc  (None, 3, 32)            128       \n",
      " hNormalization)                                                 \n",
      "                                                                 \n",
      " dropout_1 (Dropout)         (None, 3, 32)             0         \n",
      "                                                                 \n",
      " lstm_2 (LSTM)               (None, 3, 64)             24832     \n",
      "                                                                 \n",
      " batch_normalization_2 (Batc  (None, 3, 64)            256       \n",
      " hNormalization)                                                 \n",
      "                                                                 \n",
      " dropout_2 (Dropout)         (None, 3, 64)             0         \n",
      "                                                                 \n",
      " lstm_3 (LSTM)               (None, 3, 32)             12416     \n",
      "                                                                 \n",
      " batch_normalization_3 (Batc  (None, 3, 32)            128       \n",
      " hNormalization)                                                 \n",
      "                                                                 \n",
      " dropout_3 (Dropout)         (None, 3, 32)             0         \n",
      "                                                                 \n",
      " lstm_4 (LSTM)               (None, 16)                3136      \n",
      "                                                                 \n",
      " dense (Dense)               (None, 3)                 51        \n",
      "                                                                 \n",
      "=================================================================\n",
      "Total params: 48,435\n",
      "Trainable params: 48,147\n",
      "Non-trainable params: 288\n",
      "_________________________________________________________________\n"
     ]
    }
   ],
   "source": [
    "# Model (1)\n",
    "model = Sequential([\n",
    "    LSTM(16, return_sequences=True, input_shape=(X_train.shape[1], X_train.shape[2]), kernel_regularizer=l2(0.001)),\n",
    "    BatchNormalization(),\n",
    "    Dropout(0.2),\n",
    "    LSTM(32, return_sequences=True, kernel_regularizer=l2(0.001)),\n",
    "    BatchNormalization(),\n",
    "    Dropout(0.2),\n",
    "    LSTM(64, return_sequences=True, kernel_regularizer=l2(0.001)),\n",
    "    BatchNormalization(),\n",
    "    Dropout(0.2),\n",
    "    LSTM(32, return_sequences=True, kernel_regularizer=l2(0.001)),\n",
    "    BatchNormalization(),\n",
    "    Dropout(0.2),\n",
    "    LSTM(16, return_sequences=False),\n",
    "    Dense(3, activation='softmax')\n",
    "])\n",
    "\n",
    "# Optimizer\n",
    "optimize = Adam(learning_rate=0.01)\n",
    "\n",
    "model.compile(optimizer=optimize, loss='sparse_categorical_crossentropy', metrics=['accuracy']) # compile\n",
    "model.summary() # display summary"
   ]
  },
  {
   "cell_type": "markdown",
   "metadata": {},
   "source": [
    "# LR Adjuster"
   ]
  },
  {
   "cell_type": "code",
   "execution_count": 9,
   "metadata": {},
   "outputs": [],
   "source": [
    "lr_adjuster = ReduceLROnPlateau(\n",
    "    monitor='val_loss',\n",
    "    factor=0.05,\n",
    "    patience=5,\n",
    "    verbose=1\n",
    ")"
   ]
  },
  {
   "cell_type": "markdown",
   "metadata": {},
   "source": [
    "# Model Training"
   ]
  },
  {
   "cell_type": "code",
   "execution_count": 10,
   "metadata": {},
   "outputs": [
    {
     "name": "stdout",
     "output_type": "stream",
     "text": [
      "Epoch 1/80\n",
      "492/492 [==============================] - 17s 17ms/step - loss: 0.7553 - accuracy: 0.6994 - val_loss: 0.6824 - val_accuracy: 0.7254 - lr: 0.0100\n",
      "Epoch 2/80\n",
      "492/492 [==============================] - 7s 15ms/step - loss: 0.7118 - accuracy: 0.7092 - val_loss: 0.6934 - val_accuracy: 0.7128 - lr: 0.0100\n",
      "Epoch 3/80\n",
      "492/492 [==============================] - 7s 15ms/step - loss: 0.7059 - accuracy: 0.7127 - val_loss: 0.7473 - val_accuracy: 0.7059 - lr: 0.0100\n",
      "Epoch 4/80\n",
      "492/492 [==============================] - 7s 15ms/step - loss: 0.7066 - accuracy: 0.7151 - val_loss: 0.7233 - val_accuracy: 0.7140 - lr: 0.0100\n",
      "Epoch 5/80\n",
      "492/492 [==============================] - 8s 16ms/step - loss: 0.6997 - accuracy: 0.7165 - val_loss: 0.6661 - val_accuracy: 0.7311 - lr: 0.0100\n",
      "Epoch 6/80\n",
      "492/492 [==============================] - 8s 16ms/step - loss: 0.6997 - accuracy: 0.7137 - val_loss: 0.7371 - val_accuracy: 0.6922 - lr: 0.0100\n",
      "Epoch 7/80\n",
      "492/492 [==============================] - 8s 16ms/step - loss: 0.6842 - accuracy: 0.7183 - val_loss: 0.7342 - val_accuracy: 0.7277 - lr: 0.0100\n",
      "Epoch 8/80\n",
      "492/492 [==============================] - 8s 16ms/step - loss: 0.6928 - accuracy: 0.7131 - val_loss: 0.6673 - val_accuracy: 0.7208 - lr: 0.0100\n",
      "Epoch 9/80\n",
      "492/492 [==============================] - 8s 16ms/step - loss: 0.6798 - accuracy: 0.7215 - val_loss: 0.6508 - val_accuracy: 0.7288 - lr: 0.0100\n",
      "Epoch 10/80\n",
      "492/492 [==============================] - 8s 16ms/step - loss: 0.6726 - accuracy: 0.7179 - val_loss: 0.6484 - val_accuracy: 0.7128 - lr: 0.0100\n",
      "Epoch 11/80\n",
      "492/492 [==============================] - 8s 16ms/step - loss: 0.6647 - accuracy: 0.7229 - val_loss: 0.6452 - val_accuracy: 0.7162 - lr: 0.0100\n",
      "Epoch 12/80\n",
      "492/492 [==============================] - 8s 16ms/step - loss: 0.6750 - accuracy: 0.7198 - val_loss: 0.6194 - val_accuracy: 0.7449 - lr: 0.0100\n",
      "Epoch 13/80\n",
      "492/492 [==============================] - 8s 16ms/step - loss: 0.6654 - accuracy: 0.7174 - val_loss: 0.6427 - val_accuracy: 0.7334 - lr: 0.0100\n",
      "Epoch 14/80\n",
      "492/492 [==============================] - 8s 16ms/step - loss: 0.6773 - accuracy: 0.7178 - val_loss: 0.6249 - val_accuracy: 0.7288 - lr: 0.0100\n",
      "Epoch 15/80\n",
      "492/492 [==============================] - 8s 16ms/step - loss: 0.6553 - accuracy: 0.7282 - val_loss: 0.6206 - val_accuracy: 0.7323 - lr: 0.0100\n",
      "Epoch 16/80\n",
      "492/492 [==============================] - 8s 16ms/step - loss: 0.6614 - accuracy: 0.7261 - val_loss: 0.6328 - val_accuracy: 0.7185 - lr: 0.0100\n",
      "Epoch 17/80\n",
      "491/492 [============================>.] - ETA: 0s - loss: 0.6586 - accuracy: 0.7269\n",
      "Epoch 17: ReduceLROnPlateau reducing learning rate to 0.0004999999888241291.\n",
      "492/492 [==============================] - 8s 15ms/step - loss: 0.6589 - accuracy: 0.7268 - val_loss: 0.7362 - val_accuracy: 0.6682 - lr: 0.0100\n",
      "Epoch 18/80\n",
      "492/492 [==============================] - 8s 17ms/step - loss: 0.6411 - accuracy: 0.7323 - val_loss: 0.6077 - val_accuracy: 0.7368 - lr: 5.0000e-04\n",
      "Epoch 19/80\n",
      "492/492 [==============================] - 8s 16ms/step - loss: 0.6295 - accuracy: 0.7375 - val_loss: 0.6000 - val_accuracy: 0.7368 - lr: 5.0000e-04\n",
      "Epoch 20/80\n",
      "492/492 [==============================] - 8s 16ms/step - loss: 0.6234 - accuracy: 0.7417 - val_loss: 0.5991 - val_accuracy: 0.7449 - lr: 5.0000e-04\n",
      "Epoch 21/80\n",
      "492/492 [==============================] - 8s 16ms/step - loss: 0.6187 - accuracy: 0.7420 - val_loss: 0.5921 - val_accuracy: 0.7449 - lr: 5.0000e-04\n",
      "Epoch 22/80\n",
      "492/492 [==============================] - 8s 16ms/step - loss: 0.6191 - accuracy: 0.7422 - val_loss: 0.5925 - val_accuracy: 0.7460 - lr: 5.0000e-04\n",
      "Epoch 23/80\n",
      "492/492 [==============================] - 7s 15ms/step - loss: 0.6150 - accuracy: 0.7439 - val_loss: 0.5929 - val_accuracy: 0.7449 - lr: 5.0000e-04\n",
      "Epoch 24/80\n",
      "492/492 [==============================] - 8s 16ms/step - loss: 0.6129 - accuracy: 0.7409 - val_loss: 0.5915 - val_accuracy: 0.7506 - lr: 5.0000e-04\n",
      "Epoch 25/80\n",
      "492/492 [==============================] - 8s 16ms/step - loss: 0.6120 - accuracy: 0.7401 - val_loss: 0.5922 - val_accuracy: 0.7506 - lr: 5.0000e-04\n",
      "Epoch 26/80\n",
      "492/492 [==============================] - 8s 16ms/step - loss: 0.6146 - accuracy: 0.7432 - val_loss: 0.5881 - val_accuracy: 0.7426 - lr: 5.0000e-04\n",
      "Epoch 27/80\n",
      "492/492 [==============================] - 8s 16ms/step - loss: 0.6100 - accuracy: 0.7429 - val_loss: 0.5855 - val_accuracy: 0.7483 - lr: 5.0000e-04\n",
      "Epoch 28/80\n",
      "492/492 [==============================] - 8s 16ms/step - loss: 0.6098 - accuracy: 0.7418 - val_loss: 0.5891 - val_accuracy: 0.7426 - lr: 5.0000e-04\n",
      "Epoch 29/80\n",
      "492/492 [==============================] - 8s 16ms/step - loss: 0.6089 - accuracy: 0.7423 - val_loss: 0.5852 - val_accuracy: 0.7449 - lr: 5.0000e-04\n",
      "Epoch 30/80\n",
      "492/492 [==============================] - 8s 17ms/step - loss: 0.6065 - accuracy: 0.7430 - val_loss: 0.5866 - val_accuracy: 0.7460 - lr: 5.0000e-04\n",
      "Epoch 31/80\n",
      "492/492 [==============================] - 8s 17ms/step - loss: 0.6050 - accuracy: 0.7447 - val_loss: 0.5795 - val_accuracy: 0.7483 - lr: 5.0000e-04\n",
      "Epoch 32/80\n",
      "492/492 [==============================] - 8s 16ms/step - loss: 0.6066 - accuracy: 0.7430 - val_loss: 0.5782 - val_accuracy: 0.7540 - lr: 5.0000e-04\n",
      "Epoch 33/80\n",
      "492/492 [==============================] - 8s 16ms/step - loss: 0.6030 - accuracy: 0.7434 - val_loss: 0.5802 - val_accuracy: 0.7460 - lr: 5.0000e-04\n",
      "Epoch 34/80\n",
      "492/492 [==============================] - 8s 16ms/step - loss: 0.6035 - accuracy: 0.7428 - val_loss: 0.5782 - val_accuracy: 0.7471 - lr: 5.0000e-04\n",
      "Epoch 35/80\n",
      "492/492 [==============================] - 8s 16ms/step - loss: 0.6038 - accuracy: 0.7467 - val_loss: 0.5787 - val_accuracy: 0.7460 - lr: 5.0000e-04\n",
      "Epoch 36/80\n",
      "492/492 [==============================] - 8s 16ms/step - loss: 0.6014 - accuracy: 0.7444 - val_loss: 0.5779 - val_accuracy: 0.7643 - lr: 5.0000e-04\n",
      "Epoch 37/80\n",
      "492/492 [==============================] - 8s 17ms/step - loss: 0.6023 - accuracy: 0.7449 - val_loss: 0.5737 - val_accuracy: 0.7563 - lr: 5.0000e-04\n",
      "Epoch 38/80\n",
      "492/492 [==============================] - 8s 16ms/step - loss: 0.5987 - accuracy: 0.7466 - val_loss: 0.5748 - val_accuracy: 0.7540 - lr: 5.0000e-04\n",
      "Epoch 39/80\n",
      "492/492 [==============================] - 8s 16ms/step - loss: 0.6018 - accuracy: 0.7465 - val_loss: 0.5762 - val_accuracy: 0.7551 - lr: 5.0000e-04\n",
      "Epoch 40/80\n",
      "492/492 [==============================] - 7s 15ms/step - loss: 0.5988 - accuracy: 0.7468 - val_loss: 0.5740 - val_accuracy: 0.7609 - lr: 5.0000e-04\n",
      "Epoch 41/80\n",
      "492/492 [==============================] - 8s 17ms/step - loss: 0.5991 - accuracy: 0.7477 - val_loss: 0.5747 - val_accuracy: 0.7620 - lr: 5.0000e-04\n",
      "Epoch 42/80\n",
      "492/492 [==============================] - ETA: 0s - loss: 0.5995 - accuracy: 0.7498\n",
      "Epoch 42: ReduceLROnPlateau reducing learning rate to 2.4999998277053238e-05.\n",
      "492/492 [==============================] - 8s 16ms/step - loss: 0.5995 - accuracy: 0.7498 - val_loss: 0.5791 - val_accuracy: 0.7597 - lr: 5.0000e-04\n",
      "Epoch 43/80\n",
      "492/492 [==============================] - 8s 16ms/step - loss: 0.5958 - accuracy: 0.7487 - val_loss: 0.5771 - val_accuracy: 0.7609 - lr: 2.5000e-05\n",
      "Epoch 44/80\n",
      "492/492 [==============================] - 8s 16ms/step - loss: 0.5973 - accuracy: 0.7481 - val_loss: 0.5754 - val_accuracy: 0.7586 - lr: 2.5000e-05\n",
      "Epoch 45/80\n",
      "492/492 [==============================] - 8s 17ms/step - loss: 0.5980 - accuracy: 0.7484 - val_loss: 0.5754 - val_accuracy: 0.7597 - lr: 2.5000e-05\n",
      "Epoch 46/80\n",
      "492/492 [==============================] - 8s 16ms/step - loss: 0.5977 - accuracy: 0.7493 - val_loss: 0.5748 - val_accuracy: 0.7609 - lr: 2.5000e-05\n",
      "Epoch 47/80\n",
      "491/492 [============================>.] - ETA: 0s - loss: 0.5963 - accuracy: 0.7483\n",
      "Epoch 47: ReduceLROnPlateau reducing learning rate to 1.249999877472874e-06.\n",
      "492/492 [==============================] - 8s 16ms/step - loss: 0.5965 - accuracy: 0.7483 - val_loss: 0.5746 - val_accuracy: 0.7609 - lr: 2.5000e-05\n",
      "Epoch 48/80\n",
      "492/492 [==============================] - 8s 16ms/step - loss: 0.5968 - accuracy: 0.7474 - val_loss: 0.5745 - val_accuracy: 0.7620 - lr: 1.2500e-06\n",
      "Epoch 49/80\n",
      "492/492 [==============================] - 8s 16ms/step - loss: 0.5965 - accuracy: 0.7515 - val_loss: 0.5747 - val_accuracy: 0.7609 - lr: 1.2500e-06\n",
      "Epoch 50/80\n",
      "492/492 [==============================] - 8s 16ms/step - loss: 0.5981 - accuracy: 0.7483 - val_loss: 0.5743 - val_accuracy: 0.7609 - lr: 1.2500e-06\n",
      "Epoch 51/80\n",
      "492/492 [==============================] - 8s 16ms/step - loss: 0.5972 - accuracy: 0.7480 - val_loss: 0.5748 - val_accuracy: 0.7620 - lr: 1.2500e-06\n",
      "Epoch 52/80\n",
      "492/492 [==============================] - ETA: 0s - loss: 0.5985 - accuracy: 0.7477\n",
      "Epoch 52: ReduceLROnPlateau reducing learning rate to 6.249999273677531e-08.\n",
      "492/492 [==============================] - 8s 17ms/step - loss: 0.5985 - accuracy: 0.7477 - val_loss: 0.5747 - val_accuracy: 0.7620 - lr: 1.2500e-06\n",
      "Epoch 53/80\n",
      "492/492 [==============================] - 9s 18ms/step - loss: 0.5952 - accuracy: 0.7500 - val_loss: 0.5743 - val_accuracy: 0.7597 - lr: 6.2500e-08\n",
      "Epoch 54/80\n",
      "492/492 [==============================] - 9s 17ms/step - loss: 0.5971 - accuracy: 0.7486 - val_loss: 0.5743 - val_accuracy: 0.7609 - lr: 6.2500e-08\n",
      "Epoch 55/80\n",
      "492/492 [==============================] - 9s 17ms/step - loss: 0.5964 - accuracy: 0.7490 - val_loss: 0.5745 - val_accuracy: 0.7609 - lr: 6.2500e-08\n",
      "Epoch 56/80\n",
      "492/492 [==============================] - 9s 17ms/step - loss: 0.5997 - accuracy: 0.7485 - val_loss: 0.5748 - val_accuracy: 0.7620 - lr: 6.2500e-08\n",
      "Epoch 57/80\n",
      "492/492 [==============================] - ETA: 0s - loss: 0.5972 - accuracy: 0.7492\n",
      "Epoch 57: ReduceLROnPlateau reducing learning rate to 3.124999636838766e-09.\n",
      "492/492 [==============================] - 8s 17ms/step - loss: 0.5972 - accuracy: 0.7492 - val_loss: 0.5750 - val_accuracy: 0.7620 - lr: 6.2500e-08\n",
      "Epoch 58/80\n",
      "492/492 [==============================] - 8s 16ms/step - loss: 0.5951 - accuracy: 0.7498 - val_loss: 0.5746 - val_accuracy: 0.7609 - lr: 3.1250e-09\n",
      "Epoch 59/80\n",
      "492/492 [==============================] - 8s 16ms/step - loss: 0.5974 - accuracy: 0.7469 - val_loss: 0.5747 - val_accuracy: 0.7632 - lr: 3.1250e-09\n",
      "Epoch 60/80\n",
      "492/492 [==============================] - 8s 16ms/step - loss: 0.5994 - accuracy: 0.7477 - val_loss: 0.5745 - val_accuracy: 0.7609 - lr: 3.1250e-09\n",
      "Epoch 61/80\n",
      "492/492 [==============================] - 8s 16ms/step - loss: 0.5984 - accuracy: 0.7479 - val_loss: 0.5744 - val_accuracy: 0.7609 - lr: 3.1250e-09\n",
      "Epoch 62/80\n",
      "492/492 [==============================] - ETA: 0s - loss: 0.5958 - accuracy: 0.7483\n",
      "Epoch 62: ReduceLROnPlateau reducing learning rate to 1.5624997962149225e-10.\n",
      "492/492 [==============================] - 8s 16ms/step - loss: 0.5958 - accuracy: 0.7483 - val_loss: 0.5745 - val_accuracy: 0.7597 - lr: 3.1250e-09\n",
      "Epoch 63/80\n",
      "492/492 [==============================] - 8s 16ms/step - loss: 0.5988 - accuracy: 0.7477 - val_loss: 0.5745 - val_accuracy: 0.7609 - lr: 1.5625e-10\n",
      "Epoch 64/80\n",
      "492/492 [==============================] - 8s 16ms/step - loss: 0.5969 - accuracy: 0.7492 - val_loss: 0.5746 - val_accuracy: 0.7597 - lr: 1.5625e-10\n",
      "Epoch 65/80\n",
      "492/492 [==============================] - 8s 16ms/step - loss: 0.5981 - accuracy: 0.7481 - val_loss: 0.5747 - val_accuracy: 0.7620 - lr: 1.5625e-10\n",
      "Epoch 66/80\n",
      "492/492 [==============================] - 8s 16ms/step - loss: 0.5975 - accuracy: 0.7505 - val_loss: 0.5745 - val_accuracy: 0.7609 - lr: 1.5625e-10\n",
      "Epoch 67/80\n",
      "492/492 [==============================] - ETA: 0s - loss: 0.5980 - accuracy: 0.7460\n",
      "Epoch 67: ReduceLROnPlateau reducing learning rate to 7.812499258630368e-12.\n",
      "492/492 [==============================] - 8s 17ms/step - loss: 0.5980 - accuracy: 0.7460 - val_loss: 0.5742 - val_accuracy: 0.7597 - lr: 1.5625e-10\n",
      "Epoch 68/80\n",
      "492/492 [==============================] - 8s 15ms/step - loss: 0.5961 - accuracy: 0.7498 - val_loss: 0.5748 - val_accuracy: 0.7620 - lr: 7.8125e-12\n",
      "Epoch 69/80\n",
      "492/492 [==============================] - 8s 16ms/step - loss: 0.5986 - accuracy: 0.7476 - val_loss: 0.5743 - val_accuracy: 0.7609 - lr: 7.8125e-12\n",
      "Epoch 70/80\n",
      "492/492 [==============================] - 8s 16ms/step - loss: 0.5968 - accuracy: 0.7509 - val_loss: 0.5750 - val_accuracy: 0.7620 - lr: 7.8125e-12\n",
      "Epoch 71/80\n",
      "492/492 [==============================] - 8s 16ms/step - loss: 0.5958 - accuracy: 0.7495 - val_loss: 0.5750 - val_accuracy: 0.7620 - lr: 7.8125e-12\n",
      "Epoch 72/80\n",
      "491/492 [============================>.] - ETA: 0s - loss: 0.5966 - accuracy: 0.7496\n",
      "Epoch 72: ReduceLROnPlateau reducing learning rate to 3.9062494558428364e-13.\n",
      "492/492 [==============================] - 8s 15ms/step - loss: 0.5966 - accuracy: 0.7497 - val_loss: 0.5750 - val_accuracy: 0.7632 - lr: 7.8125e-12\n",
      "Epoch 73/80\n",
      "492/492 [==============================] - 7s 15ms/step - loss: 0.5965 - accuracy: 0.7501 - val_loss: 0.5747 - val_accuracy: 0.7609 - lr: 3.9062e-13\n",
      "Epoch 74/80\n",
      "492/492 [==============================] - 8s 16ms/step - loss: 0.5966 - accuracy: 0.7487 - val_loss: 0.5747 - val_accuracy: 0.7620 - lr: 3.9062e-13\n",
      "Epoch 75/80\n",
      "492/492 [==============================] - 8s 16ms/step - loss: 0.5961 - accuracy: 0.7487 - val_loss: 0.5747 - val_accuracy: 0.7620 - lr: 3.9062e-13\n",
      "Epoch 76/80\n",
      "492/492 [==============================] - 8s 16ms/step - loss: 0.5972 - accuracy: 0.7490 - val_loss: 0.5746 - val_accuracy: 0.7620 - lr: 3.9062e-13\n",
      "Epoch 77/80\n",
      "489/492 [============================>.] - ETA: 0s - loss: 0.5956 - accuracy: 0.7508\n",
      "Epoch 77: ReduceLROnPlateau reducing learning rate to 1.9531247550264727e-14.\n",
      "492/492 [==============================] - 8s 16ms/step - loss: 0.5957 - accuracy: 0.7507 - val_loss: 0.5745 - val_accuracy: 0.7609 - lr: 3.9062e-13\n",
      "Epoch 78/80\n",
      "492/492 [==============================] - 8s 16ms/step - loss: 0.5957 - accuracy: 0.7477 - val_loss: 0.5747 - val_accuracy: 0.7620 - lr: 1.9531e-14\n",
      "Epoch 79/80\n",
      "492/492 [==============================] - 8s 16ms/step - loss: 0.5967 - accuracy: 0.7495 - val_loss: 0.5748 - val_accuracy: 0.7620 - lr: 1.9531e-14\n",
      "Epoch 80/80\n",
      "492/492 [==============================] - 8s 16ms/step - loss: 0.5975 - accuracy: 0.7490 - val_loss: 0.5743 - val_accuracy: 0.7632 - lr: 1.9531e-14\n"
     ]
    }
   ],
   "source": [
    "# Parameters\n",
    "epochs = 80\n",
    "batch_size = 32\n",
    "\n",
    "# train\n",
    "history = model.fit(\n",
    "    X_train, y_train,\n",
    "    validation_data=(X_val, y_val),\n",
    "    epochs=epochs,\n",
    "    batch_size=batch_size,\n",
    "    callbacks=[lr_adjuster],\n",
    "    verbose=1\n",
    ")"
   ]
  },
  {
   "cell_type": "markdown",
   "metadata": {},
   "source": [
    "# Save Model"
   ]
  },
  {
   "cell_type": "code",
   "execution_count": 11,
   "metadata": {},
   "outputs": [
    {
     "name": "stdout",
     "output_type": "stream",
     "text": [
      "Model saved to: saved_model\\project2_part2_model.h5\n"
     ]
    }
   ],
   "source": [
    "def save_model(model, model_dir='saved_model', model_name='project2_part2_model.h5'):\n",
    "    os.makedirs(model_dir, exist_ok=True) # create dir if no exist\n",
    "    model_path = os.path.join(model_dir, model_name)\n",
    "    model.save(model_path)\n",
    "    print(f\"Model saved to: {model_path}\")\n",
    "    \n",
    "# uncomment below code to save current model\n",
    "save_model(model)"
   ]
  },
  {
   "cell_type": "markdown",
   "metadata": {},
   "source": [
    "# Plotting"
   ]
  },
  {
   "cell_type": "code",
   "execution_count": 12,
   "metadata": {},
   "outputs": [
    {
     "data": {
      "image/png": "[encoded data removed]",
      "text/plain": [
       "<Figure size 640x480 with 1 Axes>"
      ]
     },
     "metadata": {},
     "output_type": "display_data"
    },
    {
     "data": {
      "image/png": "[encoded data removed]",
      "text/plain": [
       "<Figure size 640x480 with 1 Axes>"
      ]
     },
     "metadata": {},
     "output_type": "display_data"
    }
   ],
   "source": [
    "# Training/Validation Accuracy\n",
    "plt.plot(history.history['accuracy'])\n",
    "plt.plot(history.history['val_accuracy'])\n",
    "plt.title('Model Accuracy')\n",
    "plt.ylabel('Accuracy')\n",
    "plt.xlabel('Epoch')\n",
    "plt.legend(['Train', 'Validation'], loc='upper left')\n",
    "plt.show()\n",
    "\n",
    "# Training/Validation Loss\n",
    "plt.plot(history.history['loss'])\n",
    "plt.plot(history.history['val_loss'])\n",
    "plt.title('Loss Over Epochs')\n",
    "plt.ylabel('Loss')\n",
    "plt.xlabel('Epoch')\n",
    "plt.legend(['Train', 'Validation'], loc='upper left')\n",
    "plt.show()"
   ]
  },
  {
   "cell_type": "code",
   "execution_count": null,
   "metadata": {},
   "outputs": [],
   "source": []
  }
 ],
 "metadata": {
  "kernelspec": {
   "display_name": "Python 3 (ipykernel)",
   "language": "python",
   "name": "python3"
  },
  "language_info": {
   "codemirror_mode": {
    "name": "ipython",
    "version": 3
   },
   "file_extension": ".py",
   "mimetype": "text/x-python",
   "name": "python",
   "nbconvert_exporter": "python",
   "pygments_lexer": "ipython3",
   "version": "3.9.20"
  }
 },
 "nbformat": 4,
 "nbformat_minor": 4
}
